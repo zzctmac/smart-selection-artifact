{
 "cells": [
  {
   "cell_type": "code",
   "execution_count": 1,
   "metadata": {
    "pycharm": {
     "name": "#%%\n"
    }
   },
   "outputs": [],
   "source": [
    "from sc.lib import *\n",
    "import os\n",
    "def get_all_analysis_classes():\n",
    "    config_file = pkg_resources.resource_stream(\"sc\", 'share/data/artifacts/analysis_classes.csv')\n",
    "    utf8_reader = codecs.getreader(\"utf-8\")\n",
    "    c = csv.DictReader(utf8_reader(config_file))\n",
    "    l = []\n",
    "    for record in c:\n",
    "        l.append(record['classes'])\n",
    "    return l\n",
    "def choose_classes(acs, data_group_by_class):\n",
    "    acs = list(map(lambda x: x.replace(\".\", \"_\"), acs))\n",
    "    rm_keys = []\n",
    "    for dki in data_group_by_class:\n",
    "        if len(data_group_by_class[dki]) < 30:\n",
    "            rm_keys.append(dki)\n",
    "        if dki not in acs:\n",
    "            rm_keys.append(dki)\n",
    "    for rk in rm_keys:\n",
    "        if rk in data_group_by_class:\n",
    "            del data_group_by_class[rk]\n",
    "    return data_group_by_class"
   ]
  },
  {
   "cell_type": "code",
   "execution_count": 8,
   "metadata": {
    "pycharm": {
     "name": "#%%\n"
    }
   },
   "outputs": [],
   "source": [
    "f1 = \"./tests/data_folder\""
   ]
  },
  {
   "cell_type": "code",
   "execution_count": 9,
   "metadata": {},
   "outputs": [],
   "source": [
    "analysis_classes = get_all_analysis_classes()\n",
    "f1_data_group_by_class = choose_classes(analysis_classes, get_data_group(f1))\n",
    "f3_data_group_by_class = f1_data_group_by_class"
   ]
  },
  {
   "cell_type": "code",
   "execution_count": 11,
   "metadata": {
    "pycharm": {
     "name": "#%%\n"
    }
   },
   "outputs": [],
   "source": [
    " suite_os, suite_sc, suite_oc, suite_mean_overview = analysis_data_4_alg(f3_data_group_by_class, \"suite\")"
   ]
  },
  {
   "cell_type": "code",
   "execution_count": 12,
   "metadata": {
    "pycharm": {
     "name": "#%%\n"
    }
   },
   "outputs": [
    {
     "name": "stdout",
     "output_type": "stream",
     "text": [
      "7.566666666666666\n"
     ]
    }
   ],
   "source": [
    "k = \"org_apache_hadoop_security_authentication_util_ZKSignerSecretProvider\"\n",
    "print(f3_data_group_by_class[k][\"constituent-suite\"]['data'][k].mean()[\"ConstituentBranchCoverageSize\"])"
   ]
  },
  {
   "cell_type": "code",
   "execution_count": 13,
   "metadata": {},
   "outputs": [
    {
     "name": "stdout",
     "output_type": "stream",
     "text": [
      "58.36666666666667\n"
     ]
    }
   ],
   "source": [
    "k = \"accessories_plugins_time_JDayChooser\"\n",
    "print(f3_data_group_by_class[k][\"constituent-suite\"]['data'][k].mean()[\"ConstituentBranchCoverageSize\"])"
   ]
  },
  {
   "cell_type": "code",
   "execution_count": 18,
   "metadata": {},
   "outputs": [
    {
     "data": {
      "text/plain": [
       "{'BC': 58.36666666666667,\n",
       " 'WM': 27.3,\n",
       " 'LC': 48.56666666666667,\n",
       " 'TMC': 53.56666666666667,\n",
       " 'NTMC': 51.7,\n",
       " 'DBC': 66.66666666666667,\n",
       " 'EC': 68.66666666666667,\n",
       " 'OC': 67.26666666666667}"
      ]
     },
     "execution_count": 18,
     "metadata": {},
     "output_type": "execute_result"
    }
   ],
   "source": [
    "def get_constituent_mean(dgc, class_list=None):\n",
    "    criterion_map = {\n",
    "        \"BC\":\"ConstituentBranchCoverageSize\", \"WM\":\"ConstituentWeakMutationCoverageSize\",\n",
    "        \"LC\":\"ConstituentLineCoverageSize\",\"TMC\":\"ConstituentMethodCoverageSize\",\n",
    "        \"NTMC\":\"ConstituentMethodNoExceptionCoverageSize\",\"DBC\":\"ConstituentCBranchCoverageSize\", \n",
    "        \"EC\":\"ConstituentExceptionCoverageSize\", \"OC\":\"ConstituentOutputCoverageSize\"\n",
    "    }\n",
    "    total_count = 0\n",
    "    total_sum_dict = {}\n",
    "    for ck in criterion_map.keys():\n",
    "        total_sum_dict[ck] = 0\n",
    "    for class_name, data in dgc.items():\n",
    "        real_class_name = data[\"constituent-suite\"]['data'][class_name]['TARGET_CLASS'][0]\n",
    "        if class_list is not None and real_class_name not in class_list:\n",
    "            continue\n",
    "        cd = data[\"constituent-suite\"]['data'][class_name]\n",
    "        sum_dict = cd.sum().to_dict()\n",
    "        total_count = total_count + len(cd)\n",
    "        for ck in criterion_map.keys():\n",
    "            total_sum_dict[ck] = total_sum_dict[ck] + sum_dict[criterion_map[ck]]\n",
    "    total_mean_dict = {}\n",
    "    for ck,cv in total_sum_dict.items():\n",
    "        total_mean_dict[ck] = cv /total_count\n",
    "    return total_mean_dict\n",
    "get_constituent_mean(f3_data_group_by_class, get_big_class())"
   ]
  },
  {
   "cell_type": "code",
   "execution_count": null,
   "metadata": {},
   "outputs": [],
   "source": [
    "f3_data_group_by_class[k][\"constituent-suite\"]['data'][k]"
   ]
  },
  {
   "cell_type": "code",
   "execution_count": null,
   "metadata": {},
   "outputs": [],
   "source": [
    "suite_os['statistic']"
   ]
  }
 ],
 "metadata": {
  "kernelspec": {
   "display_name": "Python 3",
   "language": "python",
   "name": "python3"
  },
  "language_info": {
   "codemirror_mode": {
    "name": "ipython",
    "version": 3
   },
   "file_extension": ".py",
   "mimetype": "text/x-python",
   "name": "python",
   "nbconvert_exporter": "python",
   "pygments_lexer": "ipython3",
   "version": "3.7.6"
  }
 },
 "nbformat": 4,
 "nbformat_minor": 1
}
