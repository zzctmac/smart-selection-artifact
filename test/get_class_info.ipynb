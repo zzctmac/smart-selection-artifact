{
 "cells": [
  {
   "cell_type": "code",
   "execution_count": 1,
   "id": "bcd08a46",
   "metadata": {},
   "outputs": [],
   "source": [
    "import sys\n",
    "from os.path import join as pj\n",
    "\n",
    "import sc\n",
    "from sc.lib import *\n",
    "import os\n",
    "import argparse\n",
    "import logging\n",
    "import os.path\n",
    "import time"
   ]
  },
  {
   "cell_type": "code",
   "execution_count": 2,
   "id": "98632fd5",
   "metadata": {},
   "outputs": [],
   "source": [
    "def get_artifact_path(filename):\n",
    "    packagedir = sc.__path__[0]\n",
    "    dirname = pj(os.path.dirname(packagedir), 'share', 'data')\n",
    "    fullname = os.path.join(dirname, filename)\n",
    "    return fullname\n",
    "\n",
    "\n",
    "def get_all_analysis_classes():\n",
    "    config_file = pkg_resources.resource_stream(\"sc\", 'share/data/artifacts/analysis_classes.csv')\n",
    "    utf8_reader = codecs.getreader(\"utf-8\")\n",
    "    c = csv.DictReader(utf8_reader(config_file))\n",
    "    l = []\n",
    "    for record in c:\n",
    "        l.append(record['classes'])\n",
    "    return l\n",
    "\n",
    "\n",
    "def choose_classes(acs, data_group_by_class):\n",
    "    acs = list(map(lambda x: x.replace(\".\", \"_\"), acs))\n",
    "    rm_keys = []\n",
    "    for dki in data_group_by_class:\n",
    "        if len(data_group_by_class[dki]) < 30:\n",
    "            rm_keys.append(dki)\n",
    "        if dki not in acs:\n",
    "            rm_keys.append(dki)\n",
    "    for rk in rm_keys:\n",
    "        if rk in data_group_by_class:\n",
    "            del data_group_by_class[rk]\n",
    "    return data_group_by_class\n",
    "\n",
    "\n",
    "def dir_check(f):\n",
    "    if not os.path.isdir(f):\n",
    "        logger.error(\"%s is not dir\" % f)\n",
    "        exit(1)"
   ]
  },
  {
   "cell_type": "code",
   "execution_count": 3,
   "id": "8d9cc0a7",
   "metadata": {},
   "outputs": [],
   "source": [
    "f1 = \"./experimental_data/data_folder\""
   ]
  },
  {
   "cell_type": "code",
   "execution_count": 4,
   "id": "89f2b29d",
   "metadata": {},
   "outputs": [],
   "source": [
    "analysis_classes = get_all_analysis_classes()"
   ]
  },
  {
   "cell_type": "code",
   "execution_count": 5,
   "id": "85f5c6af",
   "metadata": {},
   "outputs": [],
   "source": [
    "o1 = get_data_group(f1)"
   ]
  },
  {
   "cell_type": "code",
   "execution_count": 6,
   "id": "6d3b0219",
   "metadata": {},
   "outputs": [],
   "source": [
    "f1_data_group_by_class = choose_classes(analysis_classes, o1)"
   ]
  },
  {
   "cell_type": "code",
   "execution_count": 23,
   "id": "ce25eb47",
   "metadata": {},
   "outputs": [
    {
     "name": "stdout",
     "output_type": "stream",
     "text": [
      "dict_keys(['con-cbranch-dynamosa-1.2.0', 'con-exce-dynamosa-1.2.0', 'con-output-dynamosa-1.2.0', 'con-methodne-dynamosa-1.2.0', 'con-line-suite-1.2.0', 'con-wm-suite-1.2.0', 'con-branch-suite-1.2.0', 'con-method-suite-1.2.0', 'origin-suite-1.2.0', 'origin-mosa-1.2.0', 'origin-dynamosa-1.2.0', 'sc-dynamosa-sc-release1', 'con-branch-dynamosa-1.2.0', 'con-wm-mosa-1.2.0', 'con-exce-mosa-1.2.0', 'con-output-mosa-1.2.0', 'con-branch-mosa-1.2.0', 'con-wm-dynamosa-1.2.0', 'con-line-dynamosa-1.2.0', 'con-method-dynamosa-1.2.0', 'con-cbranch-suite-1.2.0', 'con-output-suite-1.2.0', 'con-exce-suite-1.2.0', 'con-methodne-suite-1.2.0', 'sc-suite-sc-release1', 'sc-mosa-sc-release1', 'con-cbranch-mosa-1.2.0', 'con-line-mosa-1.2.0', 'con-method-mosa-1.2.0', 'con-methodne-mosa-1.2.0'])\n",
      "dict_keys(['con-branch-dynamosa-1.2.0', 'con-output-mosa-1.2.0', 'con-output-suite-1.2.0', 'con-methodne-suite-1.2.0', 'con-cbranch-suite-1.2.0', 'con-exce-suite-1.2.0', 'con-exce-mosa-1.2.0', 'con-wm-dynamosa-1.2.0', 'origin-dynamosa-1.2.0', 'con-wm-suite-1.2.0', 'con-output-dynamosa-1.2.0', 'con-exce-dynamosa-1.2.0', 'con-branch-suite-1.2.0', 'origin-mosa-1.2.0', 'con-methodne-mosa-1.2.0', 'con-line-mosa-1.2.0', 'sub-dynamosa-1.2.0', 'con-method-dynamosa-1.2.0', 'con-method-suite-1.2.0', 'con-cbranch-dynamosa-1.2.0', 'sub-suite-1.2.0', 'con-branch-mosa-1.2.0', 'con-methodne-dynamosa-1.2.0', 'sub-mosa-1.2.0', 'con-wm-mosa-1.2.0', 'con-line-suite-1.2.0', 'con-method-mosa-1.2.0', 'con-line-dynamosa-1.2.0', 'con-cbranch-mosa-1.2.0', 'sc-mosa-sc-release1', 'sc-dynamosa-sc-release1', 'origin-suite-1.2.0', 'sc-suite-sc-release1'])\n"
     ]
    }
   ],
   "source": [
    "cns = []\n",
    "for k,v in f1_data_group_by_class.items():\n",
    "    class_name = v['con-cbranch-dynamosa-1.2.0']['data'][v['con-cbranch-dynamosa-1.2.0']['classes'][0][1]]['TARGET_CLASS'][0]\n",
    "    cns.append(class_name)\n",
    "    print(v.keys())"
   ]
  },
  {
   "cell_type": "code",
   "execution_count": 19,
   "id": "3c602524",
   "metadata": {},
   "outputs": [
    {
     "data": {
      "text/plain": [
       "['org.apache.hadoop.security.authentication.util.ZKSignerSecretProvider',\n",
       " 'accessories.plugins.time.JDayChooser']"
      ]
     },
     "execution_count": 19,
     "metadata": {},
     "output_type": "execute_result"
    }
   ],
   "source": [
    "cns"
   ]
  }
 ],
 "metadata": {
  "kernelspec": {
   "display_name": "Python 3",
   "language": "python",
   "name": "python3"
  },
  "language_info": {
   "codemirror_mode": {
    "name": "ipython",
    "version": 3
   },
   "file_extension": ".py",
   "mimetype": "text/x-python",
   "name": "python",
   "nbconvert_exporter": "python",
   "pygments_lexer": "ipython3",
   "version": "3.7.6"
  }
 },
 "nbformat": 4,
 "nbformat_minor": 5
}
