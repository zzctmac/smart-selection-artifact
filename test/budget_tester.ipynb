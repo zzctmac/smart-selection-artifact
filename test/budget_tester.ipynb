{
 "cells": [
  {
   "cell_type": "code",
   "execution_count": 1,
   "id": "bcd08a46",
   "metadata": {},
   "outputs": [],
   "source": [
    "import sys\n",
    "from os.path import join as pj\n",
    "\n",
    "import sc\n",
    "from sc.lib import *\n",
    "import os\n",
    "import re\n",
    "import argparse\n",
    "import logging\n",
    "import os.path\n",
    "import time"
   ]
  },
  {
   "cell_type": "code",
   "execution_count": 2,
   "id": "98632fd5",
   "metadata": {},
   "outputs": [],
   "source": [
    "def get_artifact_path(filename):\n",
    "    packagedir = sc.__path__[0]\n",
    "    dirname = pj(os.path.dirname(packagedir), 'share', 'data')\n",
    "    fullname = os.path.join(dirname, filename)\n",
    "    return fullname\n",
    "\n",
    "\n",
    "def get_all_analysis_classes():\n",
    "    config_file = pkg_resources.resource_stream(\"sc\", 'share/data/artifacts/analysis_classes.csv')\n",
    "    utf8_reader = codecs.getreader(\"utf-8\")\n",
    "    c = csv.DictReader(utf8_reader(config_file))\n",
    "    l = []\n",
    "    for record in c:\n",
    "        l.append(record['classes'])\n",
    "    return l\n",
    "\n",
    "\n",
    "def choose_classes(acs, data_group_by_class):\n",
    "    acs = list(map(lambda x: x.replace(\".\", \"_\"), acs))\n",
    "    rm_keys = []\n",
    "    for dki in data_group_by_class:\n",
    "        if len(data_group_by_class[dki]) < 30:\n",
    "            rm_keys.append(dki)\n",
    "        if dki not in acs:\n",
    "            rm_keys.append(dki)\n",
    "    for rk in rm_keys:\n",
    "        if rk in data_group_by_class:\n",
    "            del data_group_by_class[rk]\n",
    "    return data_group_by_class\n",
    "\n",
    "\n",
    "def dir_check(f):\n",
    "    if not os.path.isdir(f):\n",
    "        logger.error(\"%s is not dir\" % f)\n",
    "        exit(1)"
   ]
  },
  {
   "cell_type": "code",
   "execution_count": 3,
   "id": "8d9cc0a7",
   "metadata": {},
   "outputs": [],
   "source": [
    "f1 = \"./experimental_data/data_folder\""
   ]
  },
  {
   "cell_type": "code",
   "execution_count": 4,
   "id": "89f2b29d",
   "metadata": {},
   "outputs": [],
   "source": [
    "analysis_classes = get_all_analysis_classes()"
   ]
  },
  {
   "cell_type": "code",
   "execution_count": 5,
   "id": "85f5c6af",
   "metadata": {},
   "outputs": [],
   "source": [
    "o1 = get_data_group(f1)"
   ]
  },
  {
   "cell_type": "code",
   "execution_count": 6,
   "id": "0bb6774c",
   "metadata": {},
   "outputs": [],
   "source": [
    "f_budget = \"./experimental_data/budget\"\n",
    "if f_budget is not None and f_budget != \"\":\n",
    "    dir_check(f_budget)\n",
    "    o1 = get_data_group(f_budget, o1)"
   ]
  },
  {
   "cell_type": "code",
   "execution_count": 7,
   "id": "6d3b0219",
   "metadata": {},
   "outputs": [],
   "source": [
    "f1_data_group_by_class = choose_classes(analysis_classes, o1)"
   ]
  },
  {
   "cell_type": "code",
   "execution_count": 8,
   "id": "ce25eb47",
   "metadata": {},
   "outputs": [
    {
     "name": "stdout",
     "output_type": "stream",
     "text": [
      "dict_keys(['con-cbranch-dynamosa-1.2.0', 'con-exce-dynamosa-1.2.0', 'con-output-dynamosa-1.2.0', 'con-methodne-dynamosa-1.2.0', 'con-line-suite-1.2.0', 'con-wm-suite-1.2.0', 'con-branch-suite-1.2.0', 'con-method-suite-1.2.0', 'origin-suite-1.2.0', 'origin-mosa-1.2.0', 'origin-dynamosa-1.2.0', 'sc-dynamosa-sc-release1', 'con-branch-dynamosa-1.2.0', 'con-wm-mosa-1.2.0', 'con-exce-mosa-1.2.0', 'con-output-mosa-1.2.0', 'con-branch-mosa-1.2.0', 'con-wm-dynamosa-1.2.0', 'con-line-dynamosa-1.2.0', 'con-method-dynamosa-1.2.0', 'con-cbranch-suite-1.2.0', 'con-output-suite-1.2.0', 'con-exce-suite-1.2.0', 'con-methodne-suite-1.2.0', 'sc-suite-sc-release1', 'sc-mosa-sc-release1', 'con-cbranch-mosa-1.2.0', 'con-line-mosa-1.2.0', 'con-method-mosa-1.2.0', 'con-methodne-mosa-1.2.0', 'con-cbranch-5-mosa-1.2.0', 'con-exce-5-mosa-1.2.0', 'con-methodne-8-mosa-1.2.0', 'con-output-8-mosa-1.2.0', 'con-exce-8-mosa-1.2.0', 'con-cbranch-8-mosa-1.2.0', 'con-output-5-mosa-1.2.0', 'con-methodne-5-mosa-1.2.0', 'con-exce-10-suite-1.2.0', 'con-cbranch-10-suite-1.2.0', 'con-methodne-10-suite-1.2.0', 'con-output-10-suite-1.2.0', 'sc-10-suite-sc-release1', 'con-wm-8-suite-1.2.0', 'con-method-8-suite-1.2.0', 'origin-8-suite-1.2.0', 'con-branch-10-suite-1.2.0', 'con-line-5-suite-1.2.0', 'con-method-5-suite-1.2.0', 'sc-8-suite-sc-release1', 'con-wm-10-suite-1.2.0', 'con-line-8-suite-1.2.0', 'origin-10-suite-1.2.0', 'con-branch-8-suite-1.2.0', 'con-line-10-mosa-1.2.0', 'con-branch-5-mosa-1.2.0', 'sc-5-mosa-sc-release1', 'origin-5-mosa-1.2.0', 'con-wm-5-mosa-1.2.0', 'con-method-10-mosa-1.2.0', 'origin-8-mosa-1.2.0', 'con-branch-10-mosa-1.2.0', 'con-line-5-mosa-1.2.0', 'sc-10-mosa-sc-release1', 'con-wm-8-mosa-1.2.0', 'con-method-8-mosa-1.2.0', 'con-line-8-mosa-1.2.0', 'origin-10-mosa-1.2.0', 'con-branch-8-mosa-1.2.0', 'con-method-5-mosa-1.2.0', 'sc-8-mosa-sc-release1', 'con-wm-10-mosa-1.2.0', 'sc-5-suite-sc-release1', 'con-line-10-suite-1.2.0', 'con-branch-5-suite-1.2.0', 'con-wm-5-suite-1.2.0', 'con-method-10-suite-1.2.0', 'origin-5-suite-1.2.0', 'con-methodne-8-suite-1.2.0', 'con-output-8-suite-1.2.0', 'con-cbranch-5-suite-1.2.0', 'con-exce-5-suite-1.2.0', 'con-output-5-suite-1.2.0', 'con-methodne-5-suite-1.2.0', 'con-exce-8-suite-1.2.0', 'con-cbranch-8-suite-1.2.0', 'con-exce-10-mosa-1.2.0', 'con-cbranch-10-mosa-1.2.0', 'con-methodne-10-mosa-1.2.0', 'con-output-10-mosa-1.2.0'])\n",
      "dict_keys(['con-branch-dynamosa-1.2.0', 'con-output-mosa-1.2.0', 'con-output-suite-1.2.0', 'con-methodne-suite-1.2.0', 'con-cbranch-suite-1.2.0', 'con-exce-suite-1.2.0', 'con-exce-mosa-1.2.0', 'con-wm-dynamosa-1.2.0', 'origin-dynamosa-1.2.0', 'con-wm-suite-1.2.0', 'con-output-dynamosa-1.2.0', 'con-exce-dynamosa-1.2.0', 'con-branch-suite-1.2.0', 'origin-mosa-1.2.0', 'con-methodne-mosa-1.2.0', 'con-line-mosa-1.2.0', 'sub-dynamosa-1.2.0', 'con-method-dynamosa-1.2.0', 'con-method-suite-1.2.0', 'con-cbranch-dynamosa-1.2.0', 'sub-suite-1.2.0', 'con-branch-mosa-1.2.0', 'con-methodne-dynamosa-1.2.0', 'sub-mosa-1.2.0', 'con-wm-mosa-1.2.0', 'con-line-suite-1.2.0', 'con-method-mosa-1.2.0', 'con-line-dynamosa-1.2.0', 'con-cbranch-mosa-1.2.0', 'sc-mosa-sc-release1', 'sc-dynamosa-sc-release1', 'origin-suite-1.2.0', 'sc-suite-sc-release1', 'sc-5-suite-sc-release1', 'con-wm-8-mosa-1.2.0', 'con-line-5-mosa-1.2.0', 'con-branch-5-suite-1.2.0', 'origin-8-mosa-1.2.0', 'sc-8-mosa-sc-release1', 'con-wm-5-suite-1.2.0', 'con-method-5-mosa-1.2.0', 'con-branch-8-mosa-1.2.0', 'origin-5-suite-1.2.0', 'con-output-10-suite-1.2.0', 'con-methodne-10-suite-1.2.0', 'con-exce-8-suite-1.2.0', 'con-cbranch-8-suite-1.2.0', 'con-methodne-8-suite-1.2.0', 'con-output-8-suite-1.2.0', 'con-cbranch-10-suite-1.2.0', 'con-exce-10-suite-1.2.0', 'sc-8-suite-sc-release1', 'con-wm-5-mosa-1.2.0', 'con-method-5-suite-1.2.0', 'con-branch-8-suite-1.2.0', 'origin-5-mosa-1.2.0', 'sc-5-mosa-sc-release1', 'con-wm-8-suite-1.2.0', 'con-line-5-suite-1.2.0', 'con-branch-5-mosa-1.2.0', 'origin-8-suite-1.2.0', 'con-methodne-8-mosa-1.2.0', 'con-output-8-mosa-1.2.0', 'con-cbranch-10-mosa-1.2.0', 'con-exce-10-mosa-1.2.0', 'con-output-10-mosa-1.2.0', 'con-methodne-10-mosa-1.2.0', 'con-exce-8-mosa-1.2.0', 'con-cbranch-8-mosa-1.2.0', 'con-exce-5-mosa-1.2.0', 'con-cbranch-5-mosa-1.2.0', 'con-methodne-5-mosa-1.2.0', 'con-output-5-mosa-1.2.0', 'con-method-10-suite-1.2.0', 'con-wm-10-suite-1.2.0', 'con-line-8-suite-1.2.0', 'origin-10-suite-1.2.0', 'sc-10-suite-sc-release1', 'con-method-8-suite-1.2.0', 'con-branch-10-suite-1.2.0', 'con-line-10-suite-1.2.0', 'con-methodne-5-suite-1.2.0', 'con-output-5-suite-1.2.0', 'con-exce-5-suite-1.2.0', 'con-cbranch-5-suite-1.2.0', 'sc-10-mosa-sc-release1', 'con-method-8-mosa-1.2.0', 'con-branch-10-mosa-1.2.0', 'con-line-10-mosa-1.2.0', 'con-method-10-mosa-1.2.0', 'con-wm-10-mosa-1.2.0', 'con-line-8-mosa-1.2.0', 'origin-10-mosa-1.2.0'])\n"
     ]
    }
   ],
   "source": [
    "cns = []\n",
    "for k,v in f1_data_group_by_class.items():\n",
    "    class_name = v['con-cbranch-dynamosa-1.2.0']['data'][v['con-cbranch-dynamosa-1.2.0']['classes'][0][1]]['TARGET_CLASS'][0]\n",
    "    cns.append(class_name)\n",
    "    print(v.keys())"
   ]
  },
  {
   "cell_type": "code",
   "execution_count": 9,
   "id": "3c602524",
   "metadata": {},
   "outputs": [
    {
     "data": {
      "text/plain": [
       "['org.apache.hadoop.security.authentication.util.ZKSignerSecretProvider',\n",
       " 'accessories.plugins.time.JDayChooser']"
      ]
     },
     "execution_count": 9,
     "metadata": {},
     "output_type": "execute_result"
    }
   ],
   "source": [
    "cns"
   ]
  },
  {
   "cell_type": "code",
   "execution_count": 10,
   "id": "189fb2d2",
   "metadata": {},
   "outputs": [],
   "source": [
    "ad_suite = analysis_data_4_alg(f1_data_group_by_class, 'suite')"
   ]
  },
  {
   "cell_type": "code",
   "execution_count": 41,
   "id": "01abe67e",
   "metadata": {},
   "outputs": [],
   "source": [
    "def constituent_map_4_budget(algorithm, budget):\n",
    "    return {\n",
    "        (\"con-branch-%d-%s-1.2.0\" % (budget, algorithm)): \"BranchCoverageBitString\",\n",
    "        (\"con-wm-%d-%s-1.2.0\" % (budget, algorithm)): \"WeakMutationCoverageBitString\",\n",
    "        (\"con-line-%d-%s-1.2.0\" % (budget, algorithm)): \"LineCoverageBitString\",\n",
    "        (\"con-method-%d-%s-1.2.0\" % (budget, algorithm)): \"MethodCoverageBitString\",\n",
    "        (\"con-methodne-%d-%s-1.2.0\" % (budget, algorithm)): \"MethodNoExceptionCoverageBitString\",\n",
    "        (\"con-cbranch-%d-%s-1.2.0\" % (budget, algorithm)): \"CBranchCoverageBitString\",\n",
    "        (\"con-exce-%d-%s-1.2.0\" % (budget, algorithm)): \"ExceptionCoverageBitString\",\n",
    "        (\"con-output-%d-%s-1.2.0\" % (budget, algorithm)): \"OutputCoverageBitString\"\n",
    "    }\n",
    "def concat_constituent_one_class_4_budget(algorithm, data_group_by_class, a_class, budget):\n",
    "    m = constituent_map_4_budget(algorithm, budget)\n",
    "    g = []\n",
    "    i = 0\n",
    "    for k, v in m.items():\n",
    "        new_value = v.replace('BitString', '')\n",
    "        if i == 0:\n",
    "            g.append(data_group_by_class[a_class][k][\"data\"][a_class])\n",
    "        else:\n",
    "            g.append(data_group_by_class[a_class][k][\"data\"][a_class][v])\n",
    "            g.append(data_group_by_class[a_class][k][\"data\"][a_class][new_value])\n",
    "        if v == 'ExceptionCoverageBitString':\n",
    "            g.append(data_group_by_class[a_class][k][\"data\"][a_class][\"ExceptionCoverageGoals\"])\n",
    "        size_slice = data_group_by_class[a_class][k][\"data\"][a_class][\"Size\"].copy()\n",
    "        size_slice = size_slice.rename(\"Constituent\" + new_value + \"Size\")\n",
    "        g.append(size_slice)\n",
    "        i = i + 1\n",
    "    return pd.concat(g, axis=1)\n",
    "def concat_constituent_all_4_budget(algorithm, data_group_by_class, budget=5):\n",
    "    for ac in list(data_group_by_class.keys()):\n",
    "        is_full = True\n",
    "        ks = constituent_map_4_budget(algorithm, budget)\n",
    "        for k, _ in ks.items():\n",
    "            if not k in data_group_by_class[ac]:\n",
    "                is_full = False\n",
    "                break\n",
    "        if not is_full:\n",
    "            continue\n",
    "        data_group_by_class[ac][\"constituent-%d-%s\" % (budget, algorithm)] = {}\n",
    "        data_group_by_class[ac][\"constituent-%d-%s\" % (budget, algorithm)][\"classes\"] = \\\n",
    "            data_group_by_class[ac][\"origin-%s-1.2.0\" % (algorithm)][\"classes\"]\n",
    "        data_group_by_class[ac][\"constituent-%d-%s\" % (budget, algorithm)][\"data\"] = {}\n",
    "        data_group_by_class[ac][\"constituent-%d-%s\" % (budget, algorithm)][\"data\"][ac] = \\\n",
    "            concat_constituent_one_class_4_budget(algorithm, data_group_by_class, ac, budget)\n",
    "        data_group_by_class[ac][\"constituent-%d-%s\" % (budget, algorithm)][\"name\"] = \"constituent-%d-%s\" % (budget, algorithm)\n",
    "    return data_group_by_class\n",
    "\n",
    "def calc_coverage_4_budget(data_group_by_class, algorithm):\n",
    "    groups = [re.compile('^sc-(\\d+)-%s-sc-release1$' % algorithm), re.compile('^con-(.+)-(\\d+)-%s-1.2.0$' % algorithm),\n",
    "             re.compile('^origin-(\\d+)-%s-1.2.0$' % algorithm)]\n",
    "    for class_name in data_group_by_class.keys():\n",
    "        for ok, single_data in data_group_by_class[class_name].items():\n",
    "            match = False\n",
    "            for rm in groups:\n",
    "                if rm.match(ok) is not None:\n",
    "                    match = True\n",
    "                    break\n",
    "            if match:\n",
    "                calcTotal(single_data['data'][class_name])\n",
    "    return data_group_by_class"
   ]
  },
  {
   "cell_type": "code",
   "execution_count": 18,
   "id": "127253ee",
   "metadata": {},
   "outputs": [],
   "source": [
    "f1_data_group_by_class=calc_coverage_4_budget(f1_data_group_by_class, 'suite')"
   ]
  },
  {
   "cell_type": "code",
   "execution_count": 65,
   "id": "e71ce047",
   "metadata": {},
   "outputs": [
    {
     "data": {
      "text/plain": [
       "0    12\n",
       "1     3\n",
       "2     3\n",
       "3     8\n",
       "4    15\n",
       "5     5\n",
       "Name: Size, dtype: int64"
      ]
     },
     "execution_count": 65,
     "metadata": {},
     "output_type": "execute_result"
    }
   ],
   "source": [
    "ck = 'org_apache_hadoop_security_authentication_util_ZKSignerSecretProvider'\n",
    "f1_data_group_by_class[ck]['con-wm-10-suite-1.2.0']['data'][ck]['Size']"
   ]
  },
  {
   "cell_type": "code",
   "execution_count": 42,
   "id": "41cd9810",
   "metadata": {},
   "outputs": [],
   "source": [
    "f1_data_group_by_class = concat_constituent_all_4_budget('suite', f1_data_group_by_class, 10)"
   ]
  },
  {
   "cell_type": "code",
   "execution_count": 50,
   "id": "f56dd610",
   "metadata": {},
   "outputs": [
    {
     "data": {
      "text/plain": [
       "Index(['TARGET_CLASS', 'search_budget', 'Size', 'Length', 'Generations',\n",
       "       'BranchCoverageBitString', 'Total_Covered_Goals', 'Total_All_Goals',\n",
       "       'BranchCoverageGoals', 'BranchCoverageGoalsAll', 'BranchCoverage',\n",
       "       'ConstituentBranchCoverageSize', 'WeakMutationCoverageBitString',\n",
       "       'WeakMutationCoverage', 'ConstituentWeakMutationCoverageSize',\n",
       "       'LineCoverageBitString', 'LineCoverage', 'ConstituentLineCoverageSize',\n",
       "       'MethodCoverageBitString', 'MethodCoverage',\n",
       "       'ConstituentMethodCoverageSize', 'MethodNoExceptionCoverageBitString',\n",
       "       'MethodNoExceptionCoverage', 'ConstituentMethodNoExceptionCoverageSize',\n",
       "       'CBranchCoverageBitString', 'CBranchCoverage',\n",
       "       'ConstituentCBranchCoverageSize', 'ExceptionCoverageBitString',\n",
       "       'ExceptionCoverage', 'ExceptionCoverageGoals',\n",
       "       'ConstituentExceptionCoverageSize', 'OutputCoverageBitString',\n",
       "       'OutputCoverage', 'ConstituentOutputCoverageSize'],\n",
       "      dtype='object')"
      ]
     },
     "execution_count": 50,
     "metadata": {},
     "output_type": "execute_result"
    }
   ],
   "source": [
    "r = f1_data_group_by_class['org_apache_hadoop_security_authentication_util_ZKSignerSecretProvider']['constituent-10-suite']['data']['org_apache_hadoop_security_authentication_util_ZKSignerSecretProvider']\n",
    "r.keys()"
   ]
  },
  {
   "cell_type": "code",
   "execution_count": 51,
   "id": "95c7e783",
   "metadata": {},
   "outputs": [
    {
     "data": {
      "text/plain": [
       "Index(['TARGET_CLASS', 'search_budget', 'Size', 'Length', 'Generations',\n",
       "       'BranchCoverageBitString', 'WeakMutationCoverageBitString',\n",
       "       'LineCoverageBitString', 'MethodCoverageBitString',\n",
       "       'MethodNoExceptionCoverageBitString', 'CBranchCoverageBitString',\n",
       "       'ExceptionCoverageBitString', 'OutputCoverageBitString',\n",
       "       'Total_Covered_Goals', 'Total_All_Goals', 'BranchCoverageGoals',\n",
       "       'BranchCoverageGoalsAll', 'BranchCoverage', 'WeakMutationCoverageGoals',\n",
       "       'WeakMutationCoverageGoalsAll', 'WeakMutationCoverage',\n",
       "       'LineCoverageGoals', 'LineCoverageGoalsAll', 'LineCoverage',\n",
       "       'MethodCoverageGoals', 'MethodCoverageGoalsAll', 'MethodCoverage',\n",
       "       'MethodNoExceptionCoverageGoals', 'MethodNoExceptionCoverageGoalsAll',\n",
       "       'MethodNoExceptionCoverage', 'CBranchCoverageGoals',\n",
       "       'CBranchCoverageGoalsAll', 'CBranchCoverage', 'ExceptionCoverageGoals',\n",
       "       'ExceptionCoverageGoalsAll', 'ExceptionCoverage', 'OutputCoverageGoals',\n",
       "       'OutputCoverageGoalsAll', 'OutputCoverage'],\n",
       "      dtype='object')"
      ]
     },
     "execution_count": 51,
     "metadata": {},
     "output_type": "execute_result"
    }
   ],
   "source": [
    "r = f1_data_group_by_class['org_apache_hadoop_security_authentication_util_ZKSignerSecretProvider']['origin-10-suite-1.2.0']['data']['org_apache_hadoop_security_authentication_util_ZKSignerSecretProvider']\n",
    "r.keys()"
   ]
  },
  {
   "cell_type": "code",
   "execution_count": 92,
   "id": "7bf8b751",
   "metadata": {},
   "outputs": [],
   "source": [
    "def get_mean_4_budget_basic(cname,dgc, name, class_list=None):\n",
    "    #criterion_map = {\n",
    "    #    \"BC\": \"ConstituentBranchCoverageSize\", \"WM\": \"ConstituentWeakMutationCoverageSize\",\n",
    "    #    \"LC\": \"ConstituentLineCoverageSize\", \"TMC\": \"ConstituentMethodCoverageSize\",\n",
    "    #    \"NTMC\": \"ConstituentMethodNoExceptionCoverageSize\", \"DBC\": \"ConstituentCBranchCoverageSize\",\n",
    "    #    \"EC\": \"ConstituentExceptionCoverageSize\", \"OC\": \"ConstituentOutputCoverageSize\"\n",
    "    #}\n",
    "    criterion_map = {\n",
    "        \"BC\": \"BranchCoverage\", \"WM\": \"WeakMutationCoverage\",\n",
    "        \"LC\": \"LineCoverage\", \"TMC\": \"MethodCoverage\",\n",
    "        \"NTMC\": \"MethodNoExceptionCoverage\", \"DBC\": \"CBranchCoverage\",\n",
    "        \"EC\": \"ExceptionCoverageGoals\", \"OC\": \"OutputCoverage\"\n",
    "    }\n",
    "    total_count = 0\n",
    "    total_sum_dict = {}\n",
    "    for ck in criterion_map.keys():\n",
    "        total_sum_dict[ck] = 0\n",
    "    for class_name, data in dgc.items():\n",
    "        real_class_name = data[name]['data'][class_name]['TARGET_CLASS'][0]\n",
    "        if class_list is not None and real_class_name not in class_list:\n",
    "            continue\n",
    "        cd = data[name]['data'][class_name]\n",
    "        sum_dict = cd.sum().to_dict()\n",
    "        total_count = total_count + len(cd)\n",
    "        for ck in criterion_map.keys():\n",
    "            total_sum_dict[ck] = total_sum_dict[ck] + sum_dict[criterion_map[ck]]\n",
    "    total_mean_dict = {\"approach\":cname}\n",
    "    for ck, cv in total_sum_dict.items():\n",
    "        total_mean_dict[ck] = cv / total_count\n",
    "    return total_mean_dict\n",
    "\n",
    "def get_mean_4_budget_constituent(dgc, algorithm, budget, class_list=None):\n",
    "    return get_mean_4_budget_basic(\"constituent criterion\", dgc, \"constituent-%d-%s\" % (budget, algorithm), class_list)\n",
    "\n",
    "def get_mean_4_budget_ss(dgc, algorithm, budget, class_list=None):\n",
    "     return get_mean_4_budget_basic(\"smart selection\",dgc, \"sc-%d-%s-sc-release1\" % (budget, algorithm), class_list)\n",
    "\n",
    "def get_mean_4_budget_origin(dgc, algorithm, budget, class_list=None):\n",
    "     return get_mean_4_budget_basic(\"original combination\",dgc, \"origin-%d-%s-1.2.0\" % (budget, algorithm), class_list)\n",
    "    \n",
    "def get_mean_size_4_budget(dgc, algorithm, budget, class_list=None):\n",
    "    criterion_map = {\n",
    "        \"smart selection\": [\"sc-%d-%s-sc-release1\" % (budget, algorithm), \"Size\"],\n",
    "         \"original combination\": [\"origin-%d-%s-1.2.0\" % (budget, algorithm), \"Size\"],\n",
    "        \"BC\": [\"constituent-%d-%s\" % (budget, algorithm), \"ConstituentBranchCoverageSize\"], \n",
    "         \"WM\": [\"constituent-%d-%s\" % (budget, algorithm), \"ConstituentWeakMutationCoverageSize\"],\n",
    "        \"LC\": [\"constituent-%d-%s\" % (budget, algorithm), \"ConstituentLineCoverageSize\"], \n",
    "         \"TMC\": [\"constituent-%d-%s\" % (budget, algorithm), \"ConstituentMethodCoverageSize\"],\n",
    "        \"NTMC\": [\"constituent-%d-%s\" % (budget, algorithm), \"ConstituentMethodNoExceptionCoverageSize\"],\n",
    "         \"DBC\": [\"constituent-%d-%s\" % (budget, algorithm), \"ConstituentCBranchCoverageSize\"],\n",
    "        \"EC\": [\"constituent-%d-%s\" % (budget, algorithm), \"ConstituentExceptionCoverageSize\"],\n",
    "         \"OC\": [\"constituent-%d-%s\" % (budget, algorithm), \"ConstituentOutputCoverageSize\"]}\n",
    "    total_count = 0\n",
    "    total_sum_dict = {}\n",
    "    for ck in criterion_map.keys():\n",
    "        total_sum_dict[ck] = 0\n",
    "    for class_name, data in dgc.items():\n",
    "        r = None\n",
    "        for ck, cv in criterion_map.items():\n",
    "            real_class_name = data[cv[0]]['data'][class_name]['TARGET_CLASS'][0]\n",
    "            if class_list is not None and real_class_name not in class_list:\n",
    "                continue\n",
    "            cd = data[cv[0]]['data'][class_name]\n",
    "            sum_dict = cd.sum().to_dict()\n",
    "            if r == None:\n",
    "                r = len(cd)\n",
    "            total_sum_dict[ck] = total_sum_dict[ck] + sum_dict[cv[1]]\n",
    "        total_count = total_count + r\n",
    "    total_mean_dict = {}\n",
    "    for ck, cv in total_sum_dict.items():\n",
    "        total_mean_dict[ck] = cv / total_count\n",
    "    return total_mean_dict"
   ]
  },
  {
   "cell_type": "code",
   "execution_count": 44,
   "id": "b8afe1f7",
   "metadata": {},
   "outputs": [],
   "source": [
    "mean_all = get_mean_4_budget_constituent(f1_data_group_by_class, \"suite\", 10)"
   ]
  },
  {
   "cell_type": "code",
   "execution_count": 45,
   "id": "e6e83945",
   "metadata": {},
   "outputs": [
    {
     "data": {
      "text/plain": [
       "{'BC': 0.5745192307692307,\n",
       " 'WM': 0.6468868634769098,\n",
       " 'LC': 0.671322983014862,\n",
       " 'TMC': 0.875,\n",
       " 'NTMC': 0.7744252873563219,\n",
       " 'DBC': 0.5552884615384616,\n",
       " 'EC': 16.416666666666668,\n",
       " 'OC': 0.46811594202898554}"
      ]
     },
     "execution_count": 45,
     "metadata": {},
     "output_type": "execute_result"
    }
   ],
   "source": [
    "mean_all"
   ]
  },
  {
   "cell_type": "code",
   "execution_count": 95,
   "id": "71133d23",
   "metadata": {},
   "outputs": [
    {
     "data": {
      "text/html": [
       "<div>\n",
       "<style scoped>\n",
       "    .dataframe tbody tr th:only-of-type {\n",
       "        vertical-align: middle;\n",
       "    }\n",
       "\n",
       "    .dataframe tbody tr th {\n",
       "        vertical-align: top;\n",
       "    }\n",
       "\n",
       "    .dataframe thead th {\n",
       "        text-align: right;\n",
       "    }\n",
       "</style>\n",
       "<table border=\"1\" class=\"dataframe\">\n",
       "  <thead>\n",
       "    <tr style=\"text-align: right;\">\n",
       "      <th></th>\n",
       "      <th>approach</th>\n",
       "      <th>BC</th>\n",
       "      <th>WM</th>\n",
       "      <th>LC</th>\n",
       "      <th>TMC</th>\n",
       "      <th>NTMC</th>\n",
       "      <th>DBC</th>\n",
       "      <th>EC</th>\n",
       "      <th>OC</th>\n",
       "    </tr>\n",
       "  </thead>\n",
       "  <tbody>\n",
       "    <tr>\n",
       "      <th>0</th>\n",
       "      <td>smart selection</td>\n",
       "      <td>0.536058</td>\n",
       "      <td>0.643612</td>\n",
       "      <td>0.656740</td>\n",
       "      <td>0.875</td>\n",
       "      <td>0.770115</td>\n",
       "      <td>0.525240</td>\n",
       "      <td>14.166667</td>\n",
       "      <td>0.445652</td>\n",
       "    </tr>\n",
       "    <tr>\n",
       "      <th>1</th>\n",
       "      <td>original combination</td>\n",
       "      <td>0.516827</td>\n",
       "      <td>0.641135</td>\n",
       "      <td>0.642781</td>\n",
       "      <td>0.875</td>\n",
       "      <td>0.771552</td>\n",
       "      <td>0.507612</td>\n",
       "      <td>8.750000</td>\n",
       "      <td>0.423188</td>\n",
       "    </tr>\n",
       "    <tr>\n",
       "      <th>2</th>\n",
       "      <td>constituent criterion</td>\n",
       "      <td>0.574519</td>\n",
       "      <td>0.646887</td>\n",
       "      <td>0.671323</td>\n",
       "      <td>0.875</td>\n",
       "      <td>0.774425</td>\n",
       "      <td>0.555288</td>\n",
       "      <td>16.416667</td>\n",
       "      <td>0.468116</td>\n",
       "    </tr>\n",
       "  </tbody>\n",
       "</table>\n",
       "</div>"
      ],
      "text/plain": [
       "                approach        BC        WM        LC    TMC      NTMC  \\\n",
       "0        smart selection  0.536058  0.643612  0.656740  0.875  0.770115   \n",
       "1   original combination  0.516827  0.641135  0.642781  0.875  0.771552   \n",
       "2  constituent criterion  0.574519  0.646887  0.671323  0.875  0.774425   \n",
       "\n",
       "        DBC         EC        OC  \n",
       "0  0.525240  14.166667  0.445652  \n",
       "1  0.507612   8.750000  0.423188  \n",
       "2  0.555288  16.416667  0.468116  "
      ]
     },
     "execution_count": 95,
     "metadata": {},
     "output_type": "execute_result"
    }
   ],
   "source": [
    "mean_con = get_mean_4_budget_constituent(f1_data_group_by_class, \"suite\", 10)\n",
    "mean_ss = get_mean_4_budget_ss(f1_data_group_by_class, \"suite\", 10)\n",
    "mean_origin = get_mean_4_budget_origin(f1_data_group_by_class, \"suite\", 10)\n",
    "\n",
    "\n",
    "df = pd.DataFrame([mean_ss, mean_origin,mean_con])\n",
    "df"
   ]
  },
  {
   "cell_type": "code",
   "execution_count": null,
   "id": "331afbb1",
   "metadata": {},
   "outputs": [],
   "source": [
    "get_mean_size_4_budget(f1_data_group_by_class, \"suite\", 10)"
   ]
  },
  {
   "cell_type": "code",
   "execution_count": 106,
   "id": "6799c30c",
   "metadata": {},
   "outputs": [
    {
     "data": {
      "text/html": [
       "<div>\n",
       "<style scoped>\n",
       "    .dataframe tbody tr th:only-of-type {\n",
       "        vertical-align: middle;\n",
       "    }\n",
       "\n",
       "    .dataframe tbody tr th {\n",
       "        vertical-align: top;\n",
       "    }\n",
       "\n",
       "    .dataframe thead th {\n",
       "        text-align: right;\n",
       "    }\n",
       "</style>\n",
       "<table border=\"1\" class=\"dataframe\">\n",
       "  <thead>\n",
       "    <tr style=\"text-align: right;\">\n",
       "      <th></th>\n",
       "      <th>approach</th>\n",
       "      <th>Size</th>\n",
       "    </tr>\n",
       "  </thead>\n",
       "  <tbody>\n",
       "    <tr>\n",
       "      <th>0</th>\n",
       "      <td>smart selection</td>\n",
       "      <td>56.083333</td>\n",
       "    </tr>\n",
       "    <tr>\n",
       "      <th>1</th>\n",
       "      <td>original combination</td>\n",
       "      <td>50.583333</td>\n",
       "    </tr>\n",
       "    <tr>\n",
       "      <th>2</th>\n",
       "      <td>BC</td>\n",
       "      <td>33.958333</td>\n",
       "    </tr>\n",
       "    <tr>\n",
       "      <th>3</th>\n",
       "      <td>WM</td>\n",
       "      <td>19.208333</td>\n",
       "    </tr>\n",
       "    <tr>\n",
       "      <th>4</th>\n",
       "      <td>LC</td>\n",
       "      <td>30.625000</td>\n",
       "    </tr>\n",
       "    <tr>\n",
       "      <th>5</th>\n",
       "      <td>TMC</td>\n",
       "      <td>30.125000</td>\n",
       "    </tr>\n",
       "    <tr>\n",
       "      <th>6</th>\n",
       "      <td>NTMC</td>\n",
       "      <td>28.583333</td>\n",
       "    </tr>\n",
       "    <tr>\n",
       "      <th>7</th>\n",
       "      <td>DBC</td>\n",
       "      <td>40.708333</td>\n",
       "    </tr>\n",
       "    <tr>\n",
       "      <th>8</th>\n",
       "      <td>EC</td>\n",
       "      <td>46.750000</td>\n",
       "    </tr>\n",
       "    <tr>\n",
       "      <th>9</th>\n",
       "      <td>OC</td>\n",
       "      <td>42.458333</td>\n",
       "    </tr>\n",
       "  </tbody>\n",
       "</table>\n",
       "</div>"
      ],
      "text/plain": [
       "               approach       Size\n",
       "0       smart selection  56.083333\n",
       "1  original combination  50.583333\n",
       "2                    BC  33.958333\n",
       "3                    WM  19.208333\n",
       "4                    LC  30.625000\n",
       "5                   TMC  30.125000\n",
       "6                  NTMC  28.583333\n",
       "7                   DBC  40.708333\n",
       "8                    EC  46.750000\n",
       "9                    OC  42.458333"
      ]
     },
     "execution_count": 106,
     "metadata": {},
     "output_type": "execute_result"
    }
   ],
   "source": [
    "f1_data_group_by_class = concat_constituent_all_4_budget('suite', f1_data_group_by_class, 8)\n",
    "ad = get_mean_size_4_budget(f1_data_group_by_class, \"suite\", 8)\n",
    "aks = list(ad.keys())\n",
    "avs = []\n",
    "for ak in aks:\n",
    "    avs.append(ad[ak])\n",
    "\n",
    "pd.DataFrame(data={\"approach\":aks, \"Size\":avs})"
   ]
  },
  {
   "cell_type": "code",
   "execution_count": null,
   "id": "b06a7b08",
   "metadata": {},
   "outputs": [],
   "source": []
  },
  {
   "cell_type": "code",
   "execution_count": null,
   "id": "5691eaa5",
   "metadata": {},
   "outputs": [],
   "source": []
  },
  {
   "cell_type": "code",
   "execution_count": 81,
   "id": "f66301ec",
   "metadata": {},
   "outputs": [
    {
     "data": {
      "text/plain": [
       "search_budget                               6.000000e+02\n",
       "Size                                        8.833333e+00\n",
       "Length                                      1.310000e+02\n",
       "Generations                                 2.250000e+01\n",
       "BranchCoverageBitString                              inf\n",
       "Total_Covered_Goals                         1.283333e+01\n",
       "Total_All_Goals                             5.200000e+01\n",
       "BranchCoverageGoals                         1.283333e+01\n",
       "BranchCoverageGoalsAll                      5.200000e+01\n",
       "BranchCoverage                              2.467949e-01\n",
       "ConstituentBranchCoverageSize               8.833333e+00\n",
       "WeakMutationCoverageBitString                        inf\n",
       "WeakMutationCoverage                        4.338555e-01\n",
       "ConstituentWeakMutationCoverageSize         7.666667e+00\n",
       "LineCoverageBitString                                inf\n",
       "LineCoverage                                4.522293e-01\n",
       "ConstituentLineCoverageSize                 7.666667e+00\n",
       "MethodCoverageBitString                     1.111111e+11\n",
       "MethodCoverage                              7.500000e-01\n",
       "ConstituentMethodCoverageSize               7.000000e+00\n",
       "MethodNoExceptionCoverageBitString          1.111110e+11\n",
       "MethodNoExceptionCoverage                   5.833333e-01\n",
       "ConstituentMethodNoExceptionCoverageSize    5.500000e+00\n",
       "CBranchCoverageBitString                             inf\n",
       "CBranchCoverage                             2.307692e-01\n",
       "ConstituentCBranchCoverageSize              5.833333e+00\n",
       "ExceptionCoverageBitString                  1.111000e+03\n",
       "ExceptionCoverage                           8.000000e-01\n",
       "ExceptionCoverageGoals                      4.000000e+00\n",
       "ConstituentExceptionCoverageSize            1.033333e+01\n",
       "OutputCoverageBitString                     1.100001e+09\n",
       "OutputCoverage                              4.000000e-01\n",
       "ConstituentOutputCoverageSize               1.183333e+01\n",
       "dtype: float64"
      ]
     },
     "execution_count": 81,
     "metadata": {},
     "output_type": "execute_result"
    }
   ],
   "source": [
    "ck = 'org_apache_hadoop_security_authentication_util_ZKSignerSecretProvider'\n",
    "f1_data_group_by_class[ck]['constituent-10-suite']['data'][ck].mean()"
   ]
  },
  {
   "cell_type": "code",
   "execution_count": 82,
   "id": "dc4f7680",
   "metadata": {},
   "outputs": [
    {
     "data": {
      "text/plain": [
       "search_budget                                6.000000e+02\n",
       "Size                                         6.133333e+01\n",
       "Length                                       1.860000e+02\n",
       "Generations                                  3.091167e+03\n",
       "BranchCoverageBitString                               inf\n",
       "Total_Covered_Goals                          1.876667e+02\n",
       "Total_All_Goals                              2.080000e+02\n",
       "BranchCoverageGoals                          1.876667e+02\n",
       "BranchCoverageGoalsAll                       2.080000e+02\n",
       "BranchCoverage                               9.022436e-01\n",
       "ConstituentBranchCoverageSize                6.133333e+01\n",
       "WeakMutationCoverageBitString                         inf\n",
       "WeakMutationCoverage                         8.599182e-01\n",
       "ConstituentWeakMutationCoverageSize          3.233333e+01\n",
       "LineCoverageBitString                                 inf\n",
       "LineCoverage                                 8.904167e-01\n",
       "ConstituentLineCoverageSize                  5.250000e+01\n",
       "MethodCoverageBitString                               inf\n",
       "MethodCoverage                               1.000000e+00\n",
       "ConstituentMethodCoverageSize                5.383333e+01\n",
       "MethodNoExceptionCoverageBitString                    inf\n",
       "MethodNoExceptionCoverage                    9.655172e-01\n",
       "ConstituentMethodNoExceptionCoverageSize     5.133333e+01\n",
       "CBranchCoverageBitString                              inf\n",
       "CBranchCoverage                              8.798077e-01\n",
       "ConstituentCBranchCoverageSize               7.416667e+01\n",
       "ExceptionCoverageBitString                  1.851852e+172\n",
       "ExceptionCoverage                            9.607932e-01\n",
       "ExceptionCoverageGoals                       2.883333e+01\n",
       "ConstituentExceptionCoverageSize             8.316667e+01\n",
       "OutputCoverageBitString                               inf\n",
       "OutputCoverage                               5.362319e-01\n",
       "ConstituentOutputCoverageSize                7.516667e+01\n",
       "dtype: float64"
      ]
     },
     "execution_count": 82,
     "metadata": {},
     "output_type": "execute_result"
    }
   ],
   "source": [
    "ck = 'accessories_plugins_time_JDayChooser'\n",
    "f1_data_group_by_class[ck]['constituent-10-suite']['data'][ck].mean()"
   ]
  },
  {
   "cell_type": "code",
   "execution_count": 75,
   "id": "e1f375fb",
   "metadata": {},
   "outputs": [
    {
     "data": {
      "text/plain": [
       "dict_keys(['org_apache_hadoop_security_authentication_util_ZKSignerSecretProvider', 'accessories_plugins_time_JDayChooser'])"
      ]
     },
     "execution_count": 75,
     "metadata": {},
     "output_type": "execute_result"
    }
   ],
   "source": [
    "f1_data_group_by_class.keys()"
   ]
  }
 ],
 "metadata": {
  "kernelspec": {
   "display_name": "Python 3",
   "language": "python",
   "name": "python3"
  },
  "language_info": {
   "codemirror_mode": {
    "name": "ipython",
    "version": 3
   },
   "file_extension": ".py",
   "mimetype": "text/x-python",
   "name": "python",
   "nbconvert_exporter": "python",
   "pygments_lexer": "ipython3",
   "version": "3.7.6"
  }
 },
 "nbformat": 4,
 "nbformat_minor": 5
}
